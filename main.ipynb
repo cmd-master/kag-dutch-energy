{
 "cells": [
  {
   "cell_type": "code",
   "execution_count": 2,
   "id": "8fce289b",
   "metadata": {},
   "outputs": [],
   "source": [
    "import pandas as pd\n",
    "import glob, os"
   ]
  },
  {
   "cell_type": "markdown",
   "id": "2974ac67",
   "metadata": {},
   "source": [
    "# Prepare Data\n",
    "## Load Data\n",
    "https://www.kaggle.com/lucabasa/dutch-energy"
   ]
  },
  {
   "cell_type": "code",
   "execution_count": 3,
   "id": "e24f1e78",
   "metadata": {},
   "outputs": [],
   "source": [
    "def load_files(path, marker):\n",
    "    files_all = [f for f in os.listdir(path)]\n",
    "\n",
    "    year = []\n",
    "    company = []\n",
    "    for file in files_all:\n",
    "        batch = file.replace('.csv', '').split(marker)\n",
    "        company.append(batch[0].replace('_',''))\n",
    "        year.append(batch[1].replace('_',''))\n",
    "\n",
    "    year = pd.to_datetime([i[-4:] for i in year]).year\n",
    "\n",
    "    dock = []\n",
    "    for file in zip(files_all, year, company):\n",
    "        load = pd.read_csv(path+file[0])\n",
    "        load['company'] = file[2]\n",
    "        load['year'] = file[1]\n",
    "        load['net_type'] = marker\n",
    "        dock.append(load)\n",
    "\n",
    "    return pd.concat(dock)"
   ]
  },
  {
   "cell_type": "code",
   "execution_count": 4,
   "id": "6116ad0e",
   "metadata": {},
   "outputs": [],
   "source": [
    "raw = load_files('../_input/dutch/Electricity/', 'electricity')"
   ]
  },
  {
   "cell_type": "code",
   "execution_count": 5,
   "id": "7c6aa350",
   "metadata": {},
   "outputs": [
    {
     "data": {
      "text/html": [
       "<div>\n",
       "<style scoped>\n",
       "    .dataframe tbody tr th:only-of-type {\n",
       "        vertical-align: middle;\n",
       "    }\n",
       "\n",
       "    .dataframe tbody tr th {\n",
       "        vertical-align: top;\n",
       "    }\n",
       "\n",
       "    .dataframe thead th {\n",
       "        text-align: right;\n",
       "    }\n",
       "</style>\n",
       "<table border=\"1\" class=\"dataframe\">\n",
       "  <thead>\n",
       "    <tr style=\"text-align: right;\">\n",
       "      <th></th>\n",
       "      <th>net_manager</th>\n",
       "      <th>purchase_area</th>\n",
       "      <th>street</th>\n",
       "      <th>zipcode_from</th>\n",
       "      <th>zipcode_to</th>\n",
       "      <th>city</th>\n",
       "      <th>num_connections</th>\n",
       "      <th>delivery_perc</th>\n",
       "      <th>perc_of_active_connections</th>\n",
       "      <th>type_conn_perc</th>\n",
       "      <th>type_of_connection</th>\n",
       "      <th>annual_consume</th>\n",
       "      <th>annual_consume_lowtarif_perc</th>\n",
       "      <th>smartmeter_perc</th>\n",
       "      <th>company</th>\n",
       "      <th>year</th>\n",
       "      <th>net_type</th>\n",
       "      <th>ï»¿NETBEHEERDER</th>\n",
       "      <th>STANDAARDDEVIATIE</th>\n",
       "      <th>%Defintieve aansl (NRM)</th>\n",
       "    </tr>\n",
       "  </thead>\n",
       "  <tbody>\n",
       "    <tr>\n",
       "      <th>0</th>\n",
       "      <td>Coteq Netbeheer BV</td>\n",
       "      <td>Netbeheerder Centraal Overijssel B.V.</td>\n",
       "      <td>Dorpsstraat</td>\n",
       "      <td>7468CP</td>\n",
       "      <td>7471AA</td>\n",
       "      <td>ENTER</td>\n",
       "      <td>19.0</td>\n",
       "      <td>89.47</td>\n",
       "      <td>94.74</td>\n",
       "      <td>89</td>\n",
       "      <td>1x35</td>\n",
       "      <td>4122.0</td>\n",
       "      <td>89.47</td>\n",
       "      <td>0.0</td>\n",
       "      <td>coteq</td>\n",
       "      <td>2013</td>\n",
       "      <td>electricity</td>\n",
       "      <td>NaN</td>\n",
       "      <td>NaN</td>\n",
       "      <td>NaN</td>\n",
       "    </tr>\n",
       "    <tr>\n",
       "      <th>1</th>\n",
       "      <td>Coteq Netbeheer BV</td>\n",
       "      <td>Netbeheerder Centraal Overijssel B.V.</td>\n",
       "      <td>De Stoevelaar</td>\n",
       "      <td>7471AB</td>\n",
       "      <td>7471AB</td>\n",
       "      <td>GOOR</td>\n",
       "      <td>37.0</td>\n",
       "      <td>100.00</td>\n",
       "      <td>100.00</td>\n",
       "      <td>86</td>\n",
       "      <td>1x35</td>\n",
       "      <td>1800.0</td>\n",
       "      <td>94.59</td>\n",
       "      <td>0.0</td>\n",
       "      <td>coteq</td>\n",
       "      <td>2013</td>\n",
       "      <td>electricity</td>\n",
       "      <td>NaN</td>\n",
       "      <td>NaN</td>\n",
       "      <td>NaN</td>\n",
       "    </tr>\n",
       "    <tr>\n",
       "      <th>2</th>\n",
       "      <td>Coteq Netbeheer BV</td>\n",
       "      <td>Netbeheerder Centraal Overijssel B.V.</td>\n",
       "      <td>De Stoevelaar</td>\n",
       "      <td>7471AC</td>\n",
       "      <td>7471AC</td>\n",
       "      <td>GOOR</td>\n",
       "      <td>16.0</td>\n",
       "      <td>100.00</td>\n",
       "      <td>100.00</td>\n",
       "      <td>100</td>\n",
       "      <td>1x35</td>\n",
       "      <td>1315.0</td>\n",
       "      <td>100.00</td>\n",
       "      <td>0.0</td>\n",
       "      <td>coteq</td>\n",
       "      <td>2013</td>\n",
       "      <td>electricity</td>\n",
       "      <td>NaN</td>\n",
       "      <td>NaN</td>\n",
       "      <td>NaN</td>\n",
       "    </tr>\n",
       "    <tr>\n",
       "      <th>3</th>\n",
       "      <td>Coteq Netbeheer BV</td>\n",
       "      <td>Netbeheerder Centraal Overijssel B.V.</td>\n",
       "      <td>De Stoevelaar</td>\n",
       "      <td>7471AD</td>\n",
       "      <td>7471AE</td>\n",
       "      <td>GOOR</td>\n",
       "      <td>25.0</td>\n",
       "      <td>92.00</td>\n",
       "      <td>84.00</td>\n",
       "      <td>44</td>\n",
       "      <td>1x35</td>\n",
       "      <td>6379.0</td>\n",
       "      <td>92.00</td>\n",
       "      <td>0.0</td>\n",
       "      <td>coteq</td>\n",
       "      <td>2013</td>\n",
       "      <td>electricity</td>\n",
       "      <td>NaN</td>\n",
       "      <td>NaN</td>\n",
       "      <td>NaN</td>\n",
       "    </tr>\n",
       "    <tr>\n",
       "      <th>4</th>\n",
       "      <td>Coteq Netbeheer BV</td>\n",
       "      <td>Netbeheerder Centraal Overijssel B.V.</td>\n",
       "      <td>Kerkstraat</td>\n",
       "      <td>7471AG</td>\n",
       "      <td>7471AG</td>\n",
       "      <td>GOOR</td>\n",
       "      <td>14.0</td>\n",
       "      <td>85.71</td>\n",
       "      <td>100.00</td>\n",
       "      <td>36</td>\n",
       "      <td>1x35</td>\n",
       "      <td>4404.0</td>\n",
       "      <td>92.86</td>\n",
       "      <td>0.0</td>\n",
       "      <td>coteq</td>\n",
       "      <td>2013</td>\n",
       "      <td>electricity</td>\n",
       "      <td>NaN</td>\n",
       "      <td>NaN</td>\n",
       "      <td>NaN</td>\n",
       "    </tr>\n",
       "  </tbody>\n",
       "</table>\n",
       "</div>"
      ],
      "text/plain": [
       "          net_manager                          purchase_area         street  \\\n",
       "0  Coteq Netbeheer BV  Netbeheerder Centraal Overijssel B.V.    Dorpsstraat   \n",
       "1  Coteq Netbeheer BV  Netbeheerder Centraal Overijssel B.V.  De Stoevelaar   \n",
       "2  Coteq Netbeheer BV  Netbeheerder Centraal Overijssel B.V.  De Stoevelaar   \n",
       "3  Coteq Netbeheer BV  Netbeheerder Centraal Overijssel B.V.  De Stoevelaar   \n",
       "4  Coteq Netbeheer BV  Netbeheerder Centraal Overijssel B.V.     Kerkstraat   \n",
       "\n",
       "  zipcode_from zipcode_to   city  num_connections  delivery_perc  \\\n",
       "0       7468CP     7471AA  ENTER             19.0          89.47   \n",
       "1       7471AB     7471AB   GOOR             37.0         100.00   \n",
       "2       7471AC     7471AC   GOOR             16.0         100.00   \n",
       "3       7471AD     7471AE   GOOR             25.0          92.00   \n",
       "4       7471AG     7471AG   GOOR             14.0          85.71   \n",
       "\n",
       "   perc_of_active_connections type_conn_perc type_of_connection  \\\n",
       "0                       94.74             89               1x35   \n",
       "1                      100.00             86               1x35   \n",
       "2                      100.00            100               1x35   \n",
       "3                       84.00             44               1x35   \n",
       "4                      100.00             36               1x35   \n",
       "\n",
       "   annual_consume  annual_consume_lowtarif_perc  smartmeter_perc company  \\\n",
       "0          4122.0                         89.47              0.0   coteq   \n",
       "1          1800.0                         94.59              0.0   coteq   \n",
       "2          1315.0                        100.00              0.0   coteq   \n",
       "3          6379.0                         92.00              0.0   coteq   \n",
       "4          4404.0                         92.86              0.0   coteq   \n",
       "\n",
       "   year     net_type  ï»¿NETBEHEERDER STANDAARDDEVIATIE  \\\n",
       "0  2013  electricity              NaN               NaN   \n",
       "1  2013  electricity              NaN               NaN   \n",
       "2  2013  electricity              NaN               NaN   \n",
       "3  2013  electricity              NaN               NaN   \n",
       "4  2013  electricity              NaN               NaN   \n",
       "\n",
       "   %Defintieve aansl (NRM)  \n",
       "0                      NaN  \n",
       "1                      NaN  \n",
       "2                      NaN  \n",
       "3                      NaN  \n",
       "4                      NaN  "
      ]
     },
     "execution_count": 5,
     "metadata": {},
     "output_type": "execute_result"
    }
   ],
   "source": [
    "raw.head()"
   ]
  },
  {
   "cell_type": "code",
   "execution_count": 6,
   "id": "52f34d05",
   "metadata": {},
   "outputs": [],
   "source": [
    "df = raw.copy()"
   ]
  },
  {
   "cell_type": "markdown",
   "id": "6d87eb60",
   "metadata": {},
   "source": [
    "## Preview Variables"
   ]
  },
  {
   "cell_type": "code",
   "execution_count": 7,
   "id": "8284e730",
   "metadata": {},
   "outputs": [
    {
     "data": {
      "text/plain": [
       "Index(['net_manager', 'purchase_area', 'street', 'zipcode_from', 'zipcode_to',\n",
       "       'city', 'num_connections', 'delivery_perc',\n",
       "       'perc_of_active_connections', 'type_conn_perc', 'type_of_connection',\n",
       "       'annual_consume', 'annual_consume_lowtarif_perc', 'smartmeter_perc',\n",
       "       'company', 'year', 'net_type', 'ï»¿NETBEHEERDER', 'STANDAARDDEVIATIE',\n",
       "       '%Defintieve aansl (NRM)'],\n",
       "      dtype='object')"
      ]
     },
     "execution_count": 7,
     "metadata": {},
     "output_type": "execute_result"
    }
   ],
   "source": [
    "df.keys()"
   ]
  },
  {
   "cell_type": "markdown",
   "id": "9e29bc5e",
   "metadata": {},
   "source": [
    "## Understand the Target"
   ]
  },
  {
   "cell_type": "markdown",
   "id": "e51ff2bd",
   "metadata": {},
   "source": [
    "## Create a Test Set"
   ]
  },
  {
   "cell_type": "markdown",
   "id": "1ab3e418",
   "metadata": {},
   "source": [
    "# Explore\n",
    "## Correlations"
   ]
  },
  {
   "cell_type": "markdown",
   "id": "7037837f",
   "metadata": {},
   "source": [
    "## Do 3 Graphs"
   ]
  },
  {
   "cell_type": "code",
   "execution_count": 8,
   "id": "4e0118f2",
   "metadata": {},
   "outputs": [
    {
     "data": {
      "image/png": "[encoded data removed]",
      "text/plain": [
       "<Figure size 432x288 with 1 Axes>"
      ]
     },
     "metadata": {
      "needs_background": "light"
     },
     "output_type": "display_data"
    }
   ],
   "source": [
    "df.groupby(['year'])['smartmeter_perc'].sum().plot();\n"
   ]
  },
  {
   "cell_type": "code",
   "execution_count": 9,
   "id": "674edb4b",
   "metadata": {},
   "outputs": [
    {
     "data": {
      "image/png": "[encoded data removed]",
      "text/plain": [
       "<Figure size 432x288 with 1 Axes>"
      ]
     },
     "metadata": {
      "needs_background": "light"
     },
     "output_type": "display_data"
    }
   ],
   "source": [
    "df.groupby(['year'])['annual_consume'].sum().plot();"
   ]
  },
  {
   "cell_type": "markdown",
   "id": "08ba678b",
   "metadata": {},
   "source": [
    "# Data Cleaning\n",
    "## Missing Values"
   ]
  },
  {
   "cell_type": "markdown",
   "id": "0e623e3b",
   "metadata": {},
   "source": [
    "# Machine Learning"
   ]
  },
  {
   "cell_type": "markdown",
   "id": "9f59cc6d",
   "metadata": {},
   "source": [
    "# Documentation"
   ]
  }
 ],
 "metadata": {
  "kernelspec": {
   "display_name": "Python 3",
   "language": "python",
   "name": "python3"
  },
  "language_info": {
   "codemirror_mode": {
    "name": "ipython",
    "version": 3
   },
   "file_extension": ".py",
   "mimetype": "text/x-python",
   "name": "python",
   "nbconvert_exporter": "python",
   "pygments_lexer": "ipython3",
   "version": "3.7.10"
  }
 },
 "nbformat": 4,
 "nbformat_minor": 5
}
